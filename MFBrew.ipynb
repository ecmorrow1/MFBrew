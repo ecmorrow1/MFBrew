{
 "cells": [
  {
   "cell_type": "code",
   "execution_count": 1,
   "id": "03744a47",
   "metadata": {},
   "outputs": [],
   "source": [
    "import math"
   ]
  },
  {
   "cell_type": "code",
   "execution_count": 2,
   "id": "82ce8692",
   "metadata": {},
   "outputs": [],
   "source": [
    "# fermentor size\n",
    "def fermentor_volume(size_in_barrels):\n",
    "    return 4032 * size_in_barrels # 4032 fluid ounces in one barrel"
   ]
  },
  {
   "cell_type": "code",
   "execution_count": 3,
   "id": "1dfcd021",
   "metadata": {},
   "outputs": [],
   "source": [
    "fermentors = [\n",
    "    {\n",
    "        \"name\": \"7-Gallon Bucket\",\n",
    "        \"brand\": \"Anvil\",\n",
    "        \"\":\"\"\n",
    "    }\n",
    "]"
   ]
  },
  {
   "cell_type": "code",
   "execution_count": 4,
   "id": "895bdae5",
   "metadata": {},
   "outputs": [],
   "source": [
    "production_iterator = 0"
   ]
  },
  {
   "cell_type": "code",
   "execution_count": 5,
   "id": "4548594c",
   "metadata": {},
   "outputs": [],
   "source": [
    "production_layout = [\n",
    "    {\n",
    "        \"name\":\"1-Barrel Brewing\",\n",
    "        \"brewhouse_size_in_barrels\":1,\n",
    "        \"brew_time_in_days\": 1,\n",
    "        \"fermentor_size_in_barrels\":1,\n",
    "        \"cleaning_time_per_fermentor\": 1, # day(s)\n",
    "        \"bottling_time\": 1, # day(s)\n",
    "        \"number_of_fermentors\": 4\n",
    "        \n",
    "    },\n",
    "    {\n",
    "        \"name\":\"3-Barrel Brewing\",\n",
    "        \"brewhouse_size_in_barrels\":3,\n",
    "        \"brew_time_in_days\": 1,\n",
    "        \"fermentor_size_in_barrels\":3,\n",
    "        \"cleaning_time_per_fermentor\": 1, # day(s)\n",
    "        \"bottling_time\": 1, # day(s)\n",
    "        \"number_of_fermentors\": 4\n",
    "        \n",
    "    },\n",
    "    {\n",
    "        \"name\":\"5-Barrel Brewing\",\n",
    "        \"brewhouse_size_in_barrels\":5,\n",
    "        \"brew_time_in_days\": 1,\n",
    "        \"fermentor_size_in_barrels\":5,\n",
    "        \"cleaning_time_per_fermentor\": 1, # day(s)\n",
    "        \"bottling_time\": 1, # day(s)\n",
    "        \"number_of_fermentors\": 4\n",
    "        \n",
    "    },\n",
    "    {\n",
    "        \"name\":\"10-Barrel Brewing\",\n",
    "        \"brewhouse_size_in_barrels\":10,\n",
    "        \"brew_time_in_days\": 2,\n",
    "        \"fermentor_size_in_barrels\":10,\n",
    "        \"cleaning_time_per_fermentor\": 1, # day(s)\n",
    "        \"bottling_time\": 1, # day(s)\n",
    "        \"number_of_fermentors\": 4\n",
    "        \n",
    "    }\n",
    "]"
   ]
  },
  {
   "cell_type": "code",
   "execution_count": 6,
   "id": "4a0792ec",
   "metadata": {},
   "outputs": [],
   "source": [
    "beer_iterator = 1"
   ]
  },
  {
   "cell_type": "code",
   "execution_count": 7,
   "id": "1a2d04fd",
   "metadata": {},
   "outputs": [],
   "source": [
    "beer_types = [\n",
    "    {\n",
    "        \"type\":\"lager\",\n",
    "        \"fermentation_time_in_days\": 18,\n",
    "        \"price_per_ounce\": 0.3125, # in US Dollars.  $0.3125/ounce correlates to a $5-pint\n",
    "    },\n",
    "    {\n",
    "        \"type\":\"ale\",\n",
    "        \"fermentation_time_in_days\": 7,\n",
    "        \"price_per_ounce\": 0.3125, # in US Dollars.  $0.3125/ounce correlates to a $5-pint\n",
    "    }\n",
    "]"
   ]
  },
  {
   "cell_type": "code",
   "execution_count": 8,
   "id": "4299a4cf",
   "metadata": {},
   "outputs": [],
   "source": [
    "year = 365 # days"
   ]
  },
  {
   "cell_type": "code",
   "execution_count": 9,
   "id": "27a0230b",
   "metadata": {},
   "outputs": [
    {
     "data": {
      "text/plain": [
       "10"
      ]
     },
     "execution_count": 9,
     "metadata": {},
     "output_type": "execute_result"
    }
   ],
   "source": [
    "production_cycle_length_in_days = beer_types[beer_iterator][\"fermentation_time_in_days\"] + \\\n",
    "    production_layout[production_iterator][\"brew_time_in_days\"] + \\\n",
    "    production_layout[production_iterator][\"cleaning_time_per_fermentor\"] + \\\n",
    "    production_layout[production_iterator][\"bottling_time\"] + \\\n",
    "    0\n",
    "\n",
    "production_cycle_length_in_days"
   ]
  },
  {
   "cell_type": "code",
   "execution_count": 10,
   "id": "ec48e3a5",
   "metadata": {},
   "outputs": [
    {
     "data": {
      "text/plain": [
       "146"
      ]
     },
     "execution_count": 10,
     "metadata": {},
     "output_type": "execute_result"
    }
   ],
   "source": [
    "number_of_production_cycles = \\\n",
    "    math.floor(year/production_cycle_length_in_days * \\\n",
    "    production_layout[production_iterator][\"number_of_fermentors\"])\n",
    "\n",
    "number_of_production_cycles"
   ]
  },
  {
   "cell_type": "code",
   "execution_count": 11,
   "id": "e83e58a0",
   "metadata": {},
   "outputs": [
    {
     "data": {
      "text/plain": [
       "588672"
      ]
     },
     "execution_count": 11,
     "metadata": {},
     "output_type": "execute_result"
    }
   ],
   "source": [
    "total_volume_produced = \\\n",
    "    number_of_production_cycles * \\\n",
    "    fermentor_volume(production_layout[production_iterator][\"fermentor_size_in_barrels\"])\n",
    "\n",
    "total_volume_produced"
   ]
  },
  {
   "cell_type": "code",
   "execution_count": 12,
   "id": "452caa4d",
   "metadata": {},
   "outputs": [
    {
     "data": {
      "text/plain": [
       "183960.0"
      ]
     },
     "execution_count": 12,
     "metadata": {},
     "output_type": "execute_result"
    }
   ],
   "source": [
    "maximum_revenue = total_volume_produced * beer_types[beer_iterator][\"price_per_ounce\"]\n",
    "maximum_revenue"
   ]
  },
  {
   "cell_type": "code",
   "execution_count": null,
   "id": "725f44ad",
   "metadata": {},
   "outputs": [],
   "source": []
  }
 ],
 "metadata": {
  "kernelspec": {
   "display_name": "PythonData",
   "language": "python",
   "name": "pythondata"
  },
  "language_info": {
   "codemirror_mode": {
    "name": "ipython",
    "version": 3
   },
   "file_extension": ".py",
   "mimetype": "text/x-python",
   "name": "python",
   "nbconvert_exporter": "python",
   "pygments_lexer": "ipython3",
   "version": "3.11.3"
  }
 },
 "nbformat": 4,
 "nbformat_minor": 5
}
